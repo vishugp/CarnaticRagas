{
 "cells": [
  {
   "cell_type": "code",
   "execution_count": 1,
   "metadata": {},
   "outputs": [],
   "source": [
    "import numpy as np\n",
    "import pandas as pd\n",
    "\n",
    "from raag_player import RaagPlayer\n",
    "try: from ipywidgets import Dropdown\n",
    "except: \n",
    "    !pip install ipywidgets\n",
    "    from ipywidgets import Dropdown\n"
   ]
  },
  {
   "cell_type": "code",
   "execution_count": 2,
   "metadata": {},
   "outputs": [
    {
     "data": {
      "text/html": [
       "<div>\n",
       "<style scoped>\n",
       "    .dataframe tbody tr th:only-of-type {\n",
       "        vertical-align: middle;\n",
       "    }\n",
       "\n",
       "    .dataframe tbody tr th {\n",
       "        vertical-align: top;\n",
       "    }\n",
       "\n",
       "    .dataframe thead th {\n",
       "        text-align: right;\n",
       "    }\n",
       "</style>\n",
       "<table border=\"1\" class=\"dataframe\">\n",
       "  <thead>\n",
       "    <tr style=\"text-align: right;\">\n",
       "      <th></th>\n",
       "      <th>MELA_NUMBER</th>\n",
       "      <th>MELA_NAME</th>\n",
       "      <th>AROHANAM</th>\n",
       "      <th>AVAROHANA</th>\n",
       "    </tr>\n",
       "  </thead>\n",
       "  <tbody>\n",
       "    <tr>\n",
       "      <th>0</th>\n",
       "      <td>1</td>\n",
       "      <td>Kanakangi</td>\n",
       "      <td>[S, R1, G1, M1, P, D1, N1, S]</td>\n",
       "      <td>[S, N1, D1, P, M1, G1, R1, S]</td>\n",
       "    </tr>\n",
       "    <tr>\n",
       "      <th>1</th>\n",
       "      <td>2</td>\n",
       "      <td>Ratnangi</td>\n",
       "      <td>[S, R1, G1, M1, P, D1, N2, S]</td>\n",
       "      <td>[S, N2, D1, P, M1, G1, R1, S]</td>\n",
       "    </tr>\n",
       "    <tr>\n",
       "      <th>2</th>\n",
       "      <td>3</td>\n",
       "      <td>Ganamurti</td>\n",
       "      <td>[S, R1, G1, M1, P, D1, N3, S]</td>\n",
       "      <td>[S, N3, D1, P, M1, G1, R1, S]</td>\n",
       "    </tr>\n",
       "    <tr>\n",
       "      <th>3</th>\n",
       "      <td>4</td>\n",
       "      <td>Vanaspati</td>\n",
       "      <td>[S, R1, G1, M1, P, D2, N2, S]</td>\n",
       "      <td>[S, N2, D2, P, M1, G1, R1, S]</td>\n",
       "    </tr>\n",
       "    <tr>\n",
       "      <th>4</th>\n",
       "      <td>5</td>\n",
       "      <td>Manavati</td>\n",
       "      <td>[S, R1, G1, M1, P, D2, N3, S]</td>\n",
       "      <td>[S, N3, D2, P, M1, G1, R1, S]</td>\n",
       "    </tr>\n",
       "  </tbody>\n",
       "</table>\n",
       "</div>"
      ],
      "text/plain": [
       "   MELA_NUMBER  MELA_NAME                       AROHANAM  \\\n",
       "0            1  Kanakangi  [S, R1, G1, M1, P, D1, N1, S]   \n",
       "1            2   Ratnangi  [S, R1, G1, M1, P, D1, N2, S]   \n",
       "2            3  Ganamurti  [S, R1, G1, M1, P, D1, N3, S]   \n",
       "3            4  Vanaspati  [S, R1, G1, M1, P, D2, N2, S]   \n",
       "4            5   Manavati  [S, R1, G1, M1, P, D2, N3, S]   \n",
       "\n",
       "                       AVAROHANA  \n",
       "0  [S, N1, D1, P, M1, G1, R1, S]  \n",
       "1  [S, N2, D1, P, M1, G1, R1, S]  \n",
       "2  [S, N3, D1, P, M1, G1, R1, S]  \n",
       "3  [S, N2, D2, P, M1, G1, R1, S]  \n",
       "4  [S, N3, D2, P, M1, G1, R1, S]  "
      ]
     },
     "execution_count": 2,
     "metadata": {},
     "output_type": "execute_result"
    }
   ],
   "source": [
    "mela_df = pd.read_excel(r\"Melakarta Raagams.xlsx\")\n",
    "mela_df.columns = [\"_\".join(i.strip().split()) for i in mela_df.columns]\n",
    "\n",
    "for n in ['AROHANAM','AVAROHANA']:\n",
    "    mela_df[n]  = mela_df[n].apply(lambda x: x.replace(\"\\n\",\"\").split())\n",
    "mela_df.head()"
   ]
  },
  {
   "cell_type": "code",
   "execution_count": 3,
   "metadata": {},
   "outputs": [
    {
     "name": "stdout",
     "output_type": "stream",
     "text": [
      "Viswambari\n",
      "['S', 'R1', 'G3', 'M2', 'P', 'D3', 'N3']\n",
      "S  R1 G3 M2 P  D3 N3 S2 \n",
      "S2 N3 D3 P  M2 G3 R1 S  "
     ]
    },
    {
     "data": {
      "text/plain": [
       "<raag_player.RaagPlayer at 0x28efb2efa70>"
      ]
     },
     "execution_count": 3,
     "metadata": {},
     "output_type": "execute_result"
    }
   ],
   "source": [
    "raag_i = np.random.choice(range(mela_df.shape[0]),size=1)[0]\n",
    "raag = mela_df.iloc[raag_i].to_dict()\n",
    "print(raag['MELA_NAME'])\n",
    "RaagPlayer(list(raag['AROHANAM'])[:-1])\n"
   ]
  },
  {
   "cell_type": "code",
   "execution_count": 4,
   "metadata": {},
   "outputs": [
    {
     "data": {
      "application/vnd.jupyter.widget-view+json": {
       "model_id": "5dcbbfb363344bbb82c89b4efe44fde0",
       "version_major": 2,
       "version_minor": 0
      },
      "text/plain": [
       "Dropdown(options=('Bhavapriya', 'Chakravakam', 'Chalanata', 'Charukesi', 'Chitrambari', 'Dharmavati', 'Dhatuva…"
      ]
     },
     "metadata": {},
     "output_type": "display_data"
    },
    {
     "name": "stdout",
     "output_type": "stream",
     "text": [
      "You selected: Mayamalavagaula\n",
      "['S', 'R1', 'G3', 'M1', 'P', 'D1', 'N3']\n",
      "S  R1 G3 M1 P  D1 N3 S2 \n",
      "S2 N3 D1 P  M1 G3 R1 S  \n",
      "\n",
      "You selected: Keeravani\n",
      "['S', 'R2', 'G2', 'M1', 'P', 'D1', 'N3']\n",
      "S  R2 G2 M1 P  D1 N3 S2 \n",
      "S2 N3 D1 P  M1 G2 R2 S  \n",
      "\n"
     ]
    }
   ],
   "source": [
    "d = Dropdown(options = sorted(mela_df['MELA_NAME']))\n",
    "\n",
    "def print_selected(change):\n",
    "  selected_value = change['new']  \n",
    "  print(f\"You selected: {selected_value}\")\n",
    "  RaagPlayer(mela_df[mela_df['MELA_NAME']==selected_value]['AROHANAM'].tolist()[0][:-1])\n",
    "  print(\"\\n\")\n",
    "d.observe(print_selected, names='value')\n",
    "display(d)"
   ]
  },
  {
   "cell_type": "code",
   "execution_count": null,
   "metadata": {},
   "outputs": [],
   "source": []
  }
 ],
 "metadata": {
  "kernelspec": {
   "display_name": "Python 3",
   "language": "python",
   "name": "python3"
  },
  "language_info": {
   "codemirror_mode": {
    "name": "ipython",
    "version": 3
   },
   "file_extension": ".py",
   "mimetype": "text/x-python",
   "name": "python",
   "nbconvert_exporter": "python",
   "pygments_lexer": "ipython3",
   "version": "3.12.3"
  }
 },
 "nbformat": 4,
 "nbformat_minor": 2
}
