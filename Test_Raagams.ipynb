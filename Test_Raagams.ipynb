{
 "cells": [
  {
   "cell_type": "code",
   "execution_count": 1,
   "metadata": {},
   "outputs": [],
   "source": [
    "import numpy as np\n",
    "import pandas as pd\n",
    "\n",
    "try:\n",
    "    from raagam_player import RaagPlayer\n",
    "except:\n",
    "    import pyaudio\n",
    "    import numpy as np\n",
    "    import wave\n",
    "\n",
    "    class RaagPlayer:\n",
    "        CHUNK = 1024\n",
    "        FORMAT = pyaudio.paInt16\n",
    "        CHANNELS = 2\n",
    "        RATE = 44100 \n",
    "        DURATION = 1.5\n",
    "        base = 200\n",
    "\n",
    "        notes_list = {'S':1, \n",
    "                        'R1':16/15,\n",
    "                        'R2':9/8,\n",
    "                        'R3':1.186,\n",
    "                        'G1':6/5,\n",
    "                        'G2':81/64,\n",
    "                        'G3':81/64 + 1e-2,\n",
    "                        'M1':4/3,\n",
    "                        'M2':45/32,\n",
    "                        'P':3/2,\n",
    "                        'D1':8/5,\n",
    "                        'D2':27/16,\n",
    "                        'D3':1.69,\n",
    "                        'N1':16/9,\n",
    "                        'N2':15/8,\n",
    "                        'N3':1.9\n",
    "        }\n",
    "        \n",
    "        def __init__(self, play_notes):\n",
    "            print(play_notes)\n",
    "            self.generate_note(self.aaro_avro(play_notes))\n",
    "\n",
    "\n",
    "        def aaro_avro(self, raag):\n",
    "            freq_tuple = [(n,self.notes_list[n]) for n in raag]\n",
    "            return [(note,self.base*v) for note,v in freq_tuple + [('S2',2),('\\n',0),('\\rS2',2)] + freq_tuple[::-1]]\n",
    "\n",
    "        def generate_note(self, notes):\n",
    "            \n",
    "            p = pyaudio.PyAudio()\n",
    "            stream = p.open(format=self.FORMAT,\n",
    "                            channels=self.CHANNELS,\n",
    "                            rate=self.RATE,\n",
    "                            output=True)\n",
    "            \n",
    "            for (n,freq) in notes:\n",
    "                if n in ['S','P']: n+=' '\n",
    "                print(n, end=\" \")\n",
    "                samples = [int(np.sin(2*np.pi*n*freq/self.RATE) * 32767) for n in range(int(self.RATE*self.DURATION))]\n",
    "                packed_samples = wave.struct.pack('h'*len(samples), *samples)  # 'h' for signed short\n",
    "                stream.write(packed_samples)\n",
    "                stream.stop_stream()\n",
    "                stream.close()\n",
    "\n",
    "            p.terminate()\n",
    "\n",
    "\n",
    "\n",
    "try: from ipywidgets import Dropdown\n",
    "except: \n",
    "    !pip install ipywidgets\n",
    "    from ipywidgets import Dropdown\n"
   ]
  },
  {
   "cell_type": "code",
   "execution_count": 2,
   "metadata": {},
   "outputs": [
    {
     "data": {
      "text/html": [
       "<div>\n",
       "<style scoped>\n",
       "    .dataframe tbody tr th:only-of-type {\n",
       "        vertical-align: middle;\n",
       "    }\n",
       "\n",
       "    .dataframe tbody tr th {\n",
       "        vertical-align: top;\n",
       "    }\n",
       "\n",
       "    .dataframe thead th {\n",
       "        text-align: right;\n",
       "    }\n",
       "</style>\n",
       "<table border=\"1\" class=\"dataframe\">\n",
       "  <thead>\n",
       "    <tr style=\"text-align: right;\">\n",
       "      <th></th>\n",
       "      <th>MELA_NUMBER</th>\n",
       "      <th>MELA_NAME</th>\n",
       "      <th>AROHANAM</th>\n",
       "      <th>AVAROHANA</th>\n",
       "    </tr>\n",
       "  </thead>\n",
       "  <tbody>\n",
       "    <tr>\n",
       "      <th>0</th>\n",
       "      <td>1</td>\n",
       "      <td>Kanakangi</td>\n",
       "      <td>[S, R1, G1, M1, P, D1, N1, S]</td>\n",
       "      <td>[S, N1, D1, P, M1, G1, R1, S]</td>\n",
       "    </tr>\n",
       "    <tr>\n",
       "      <th>1</th>\n",
       "      <td>2</td>\n",
       "      <td>Ratnangi</td>\n",
       "      <td>[S, R1, G1, M1, P, D1, N2, S]</td>\n",
       "      <td>[S, N2, D1, P, M1, G1, R1, S]</td>\n",
       "    </tr>\n",
       "    <tr>\n",
       "      <th>2</th>\n",
       "      <td>3</td>\n",
       "      <td>Ganamurti</td>\n",
       "      <td>[S, R1, G1, M1, P, D1, N3, S]</td>\n",
       "      <td>[S, N3, D1, P, M1, G1, R1, S]</td>\n",
       "    </tr>\n",
       "    <tr>\n",
       "      <th>3</th>\n",
       "      <td>4</td>\n",
       "      <td>Vanaspati</td>\n",
       "      <td>[S, R1, G1, M1, P, D2, N2, S]</td>\n",
       "      <td>[S, N2, D2, P, M1, G1, R1, S]</td>\n",
       "    </tr>\n",
       "    <tr>\n",
       "      <th>4</th>\n",
       "      <td>5</td>\n",
       "      <td>Manavati</td>\n",
       "      <td>[S, R1, G1, M1, P, D2, N3, S]</td>\n",
       "      <td>[S, N3, D2, P, M1, G1, R1, S]</td>\n",
       "    </tr>\n",
       "  </tbody>\n",
       "</table>\n",
       "</div>"
      ],
      "text/plain": [
       "   MELA_NUMBER  MELA_NAME                       AROHANAM  \\\n",
       "0            1  Kanakangi  [S, R1, G1, M1, P, D1, N1, S]   \n",
       "1            2   Ratnangi  [S, R1, G1, M1, P, D1, N2, S]   \n",
       "2            3  Ganamurti  [S, R1, G1, M1, P, D1, N3, S]   \n",
       "3            4  Vanaspati  [S, R1, G1, M1, P, D2, N2, S]   \n",
       "4            5   Manavati  [S, R1, G1, M1, P, D2, N3, S]   \n",
       "\n",
       "                       AVAROHANA  \n",
       "0  [S, N1, D1, P, M1, G1, R1, S]  \n",
       "1  [S, N2, D1, P, M1, G1, R1, S]  \n",
       "2  [S, N3, D1, P, M1, G1, R1, S]  \n",
       "3  [S, N2, D2, P, M1, G1, R1, S]  \n",
       "4  [S, N3, D2, P, M1, G1, R1, S]  "
      ]
     },
     "execution_count": 2,
     "metadata": {},
     "output_type": "execute_result"
    }
   ],
   "source": [
    "mela_df = pd.read_excel(r\"Melakarta Raagams.xlsx\")\n",
    "mela_df.columns = [\"_\".join(i.strip().split()) for i in mela_df.columns]\n",
    "\n",
    "for n in ['AROHANAM','AVAROHANA']:\n",
    "    mela_df[n]  = mela_df[n].apply(lambda x: x.replace(\"\\n\",\"\").split())\n",
    "mela_df.head()"
   ]
  },
  {
   "cell_type": "code",
   "execution_count": 3,
   "metadata": {},
   "outputs": [
    {
     "name": "stdout",
     "output_type": "stream",
     "text": [
      "Natabhairavi\n",
      "['S', 'R2', 'G2', 'M1', 'P', 'D1', 'N2']\n",
      "S  R2 G2 M1 P  D1 N2 S2 \n",
      "S2 N2 D1 P  M1 G2 R2 S  "
     ]
    },
    {
     "data": {
      "text/plain": [
       "<raag_player.RaagPlayer at 0x26a3d0cf830>"
      ]
     },
     "execution_count": 3,
     "metadata": {},
     "output_type": "execute_result"
    }
   ],
   "source": [
    "raag_i = np.random.choice(range(mela_df.shape[0]),size=1)[0]\n",
    "raag = mela_df.iloc[raag_i].to_dict()\n",
    "print(raag['MELA_NAME'])\n",
    "RaagPlayer(list(raag['AROHANAM'])[:-1])\n"
   ]
  },
  {
   "cell_type": "code",
   "execution_count": 4,
   "metadata": {},
   "outputs": [
    {
     "data": {
      "application/vnd.jupyter.widget-view+json": {
       "model_id": "680a9b477390479eaf0a1b47616e0974",
       "version_major": 2,
       "version_minor": 0
      },
      "text/plain": [
       "Dropdown(options=('Bhavapriya', 'Chakravakam', 'Chalanata', 'Charukesi', 'Chitrambari', 'Dharmavati', 'Dhatuva…"
      ]
     },
     "metadata": {},
     "output_type": "display_data"
    },
    {
     "name": "stdout",
     "output_type": "stream",
     "text": [
      "You selected: Chitrambari\n",
      "['S', 'R2', 'G3', 'M2', 'P', 'D3', 'N3']\n",
      "S  R2 G3 M2 P  D3 N3 S2 \n",
      "S2 N3 D3 P  M2 G3 R2 S  \n",
      "\n",
      "You selected: Dheerashankarabharanam\n",
      "['S', 'R2', 'G3', 'M1', 'P', 'D2', 'N3']\n",
      "S  R2 G3 M1 P  D2 N3 S2 \n",
      "S2 N3 D2 P  M1 G3 R2 S  \n",
      "\n",
      "You selected: Gayakapriya\n",
      "['S', 'R1', 'G3', 'M1', 'P', 'D1', 'N1']\n",
      "S  R1 G3 M1 P  D1 N1 S2 \n",
      "S2 N1 D1 P  M1 G3 R1 S  \n",
      "\n",
      "You selected: Harikambhoji\n",
      "['S', 'R2', 'G3', 'M1', 'P', 'D2', 'N2']\n",
      "S  R2 G3 M1 P  D2 N2 S2 \n",
      "S2 N2 D2 P  M1 G3 R2 S  \n",
      "\n",
      "You selected: Dheerashankarabharanam\n",
      "['S', 'R2', 'G3', 'M1', 'P', 'D2', 'N3']\n",
      "S  R2 G3 M1 P  D2 N3 S2 \n",
      "S2 N3 D2 P  M1 G3 R2 S  \n",
      "\n",
      "You selected: Dhavalambari\n",
      "['S', 'R1', 'G3', 'M2', 'P', 'D1', 'N1']\n",
      "S  R1 G3 M2 P  D1 N1 S2 \n",
      "S2 N1 D1 P  M2 G3 R1 S  \n",
      "\n"
     ]
    }
   ],
   "source": [
    "d = Dropdown(options = sorted(mela_df['MELA_NAME']))\n",
    "\n",
    "def print_selected(change):\n",
    "  selected_value = change['new']  \n",
    "  print(f\"You selected: {selected_value}\")\n",
    "  RaagPlayer(mela_df[mela_df['MELA_NAME']==selected_value]['AROHANAM'].tolist()[0][:-1])\n",
    "  print(\"\\n\")\n",
    "d.observe(print_selected, names='value')\n",
    "display(d)"
   ]
  },
  {
   "cell_type": "code",
   "execution_count": 5,
   "metadata": {},
   "outputs": [
    {
     "data": {
      "text/plain": [
       "72"
      ]
     },
     "execution_count": 5,
     "metadata": {},
     "output_type": "execute_result"
    }
   ],
   "source": [
    "len(mela_df['MELA_NAME'])"
   ]
  },
  {
   "cell_type": "code",
   "execution_count": null,
   "metadata": {},
   "outputs": [],
   "source": []
  }
 ],
 "metadata": {
  "kernelspec": {
   "display_name": "Python 3",
   "language": "python",
   "name": "python3"
  },
  "language_info": {
   "codemirror_mode": {
    "name": "ipython",
    "version": 3
   },
   "file_extension": ".py",
   "mimetype": "text/x-python",
   "name": "python",
   "nbconvert_exporter": "python",
   "pygments_lexer": "ipython3",
   "version": "3.12.3"
  }
 },
 "nbformat": 4,
 "nbformat_minor": 2
}
