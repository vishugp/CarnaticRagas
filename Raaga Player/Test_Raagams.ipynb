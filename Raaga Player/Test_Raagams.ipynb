{
 "cells": [
  {
   "cell_type": "code",
   "execution_count": 1,
   "metadata": {},
   "outputs": [],
   "source": [
    "import numpy as np\n",
    "import pandas as pd\n",
    "import plotly.express as px\n",
    "import matplotlib.pyplot as plt\n",
    "from raagam_player import RaagPlayer\n",
    "\n",
    "\n",
    "\n",
    "try: from ipywidgets import Dropdown\n",
    "except: \n",
    "    !pip install ipywidgets\n",
    "    from ipywidgets import Dropdown\n"
   ]
  },
  {
   "cell_type": "code",
   "execution_count": 2,
   "metadata": {},
   "outputs": [
    {
     "data": {
      "text/html": [
       "<div>\n",
       "<style scoped>\n",
       "    .dataframe tbody tr th:only-of-type {\n",
       "        vertical-align: middle;\n",
       "    }\n",
       "\n",
       "    .dataframe tbody tr th {\n",
       "        vertical-align: top;\n",
       "    }\n",
       "\n",
       "    .dataframe thead th {\n",
       "        text-align: right;\n",
       "    }\n",
       "</style>\n",
       "<table border=\"1\" class=\"dataframe\">\n",
       "  <thead>\n",
       "    <tr style=\"text-align: right;\">\n",
       "      <th></th>\n",
       "      <th>Raga_Name_Raw</th>\n",
       "      <th>Raga_Name</th>\n",
       "      <th>AAROHANAM</th>\n",
       "      <th>AVAROHANAM</th>\n",
       "      <th>Melakarta</th>\n",
       "      <th>Melakarta_Name</th>\n",
       "    </tr>\n",
       "  </thead>\n",
       "  <tbody>\n",
       "    <tr>\n",
       "      <th>0</th>\n",
       "      <td>1 Kanakāngi (Janaka raga)</td>\n",
       "      <td>Kanakāngi (Janaka raga)</td>\n",
       "      <td>[S, R1, G1, M1, P, D1, N1, S]</td>\n",
       "      <td>[S, N1, D1, P, M1, G1, R1, S]</td>\n",
       "      <td>1.0</td>\n",
       "      <td>Kanakāngi (Janaka raga)</td>\n",
       "    </tr>\n",
       "    <tr>\n",
       "      <th>1</th>\n",
       "      <td>Kanakāmbari</td>\n",
       "      <td>Kanakāmbari</td>\n",
       "      <td>[S, R1, M1, P, D1, S]</td>\n",
       "      <td>[S, N1, D1, P, M1, G1, R1, S]</td>\n",
       "      <td>0.0</td>\n",
       "      <td>Kanakāngi (Janaka raga)</td>\n",
       "    </tr>\n",
       "    <tr>\n",
       "      <th>2</th>\n",
       "      <td>Kanakatodi</td>\n",
       "      <td>Kanakatodi</td>\n",
       "      <td>[S, R1, G1, M1, P, D1, S]</td>\n",
       "      <td>[S, N1, D1, P, M1, R1, S]</td>\n",
       "      <td>0.0</td>\n",
       "      <td>Kanakāngi (Janaka raga)</td>\n",
       "    </tr>\n",
       "    <tr>\n",
       "      <th>3</th>\n",
       "      <td>Mādhavapriyā</td>\n",
       "      <td>Mādhavapriyā</td>\n",
       "      <td>[S, R1, G1, P, D1, N1, S]</td>\n",
       "      <td>[S, N1, D1, P, G1, R1, S]</td>\n",
       "      <td>0.0</td>\n",
       "      <td>Kanakāngi (Janaka raga)</td>\n",
       "    </tr>\n",
       "    <tr>\n",
       "      <th>4</th>\n",
       "      <td>Karnātaka Shuddha Sāveri</td>\n",
       "      <td>Karnātaka Shuddha Sāveri</td>\n",
       "      <td>[S, R1, M1, P, D1, S]</td>\n",
       "      <td>[S, D1, P, M1, R1, S]</td>\n",
       "      <td>0.0</td>\n",
       "      <td>Kanakāngi (Janaka raga)</td>\n",
       "    </tr>\n",
       "  </tbody>\n",
       "</table>\n",
       "</div>"
      ],
      "text/plain": [
       "               Raga_Name_Raw                 Raga_Name  \\\n",
       "0  1 Kanakāngi (Janaka raga)   Kanakāngi (Janaka raga)   \n",
       "1                Kanakāmbari               Kanakāmbari   \n",
       "2                 Kanakatodi                Kanakatodi   \n",
       "3               Mādhavapriyā              Mādhavapriyā   \n",
       "4   Karnātaka Shuddha Sāveri  Karnātaka Shuddha Sāveri   \n",
       "\n",
       "                       AAROHANAM                     AVAROHANAM  Melakarta  \\\n",
       "0  [S, R1, G1, M1, P, D1, N1, S]  [S, N1, D1, P, M1, G1, R1, S]        1.0   \n",
       "1          [S, R1, M1, P, D1, S]  [S, N1, D1, P, M1, G1, R1, S]        0.0   \n",
       "2      [S, R1, G1, M1, P, D1, S]      [S, N1, D1, P, M1, R1, S]        0.0   \n",
       "3      [S, R1, G1, P, D1, N1, S]      [S, N1, D1, P, G1, R1, S]        0.0   \n",
       "4          [S, R1, M1, P, D1, S]          [S, D1, P, M1, R1, S]        0.0   \n",
       "\n",
       "            Melakarta_Name  \n",
       "0  Kanakāngi (Janaka raga)  \n",
       "1  Kanakāngi (Janaka raga)  \n",
       "2  Kanakāngi (Janaka raga)  \n",
       "3  Kanakāngi (Janaka raga)  \n",
       "4  Kanakāngi (Janaka raga)  "
      ]
     },
     "execution_count": 2,
     "metadata": {},
     "output_type": "execute_result"
    }
   ],
   "source": [
    "mela_df = pd.read_excel(r\"../Data/Tabular/All_Raagams.xlsx\")\n",
    "mela_df.columns = [\"_\".join(i.strip().split()) for i in mela_df.columns]\n",
    "\n",
    "for n in ['AAROHANAM','AVAROHANAM']:\n",
    "    mela_df[n]  = mela_df[n].apply(lambda x: str(x).replace(\"\\n\",\"\").split())\n",
    "mela_df[mela_df['Raga_Name'].isnull()==False]\n",
    "mela_df.head()"
   ]
  },
  {
   "cell_type": "code",
   "execution_count": 3,
   "metadata": {},
   "outputs": [
    {
     "data": {
      "application/vnd.plotly.v1+json": {
       "config": {
        "plotlyServerURL": "https://plot.ly"
       },
       "data": [
        {
         "hovertemplate": "x=%{x}<br>y=%{y}<extra></extra>",
         "legendgroup": "",
         "marker": {
          "color": "#636efa",
          "symbol": "circle"
         },
         "mode": "markers",
         "name": "",
         "orientation": "v",
         "showlegend": false,
         "type": "scatter",
         "x": [
          1,
          2,
          3,
          4,
          5,
          6,
          7,
          8,
          9,
          10,
          11,
          12,
          13,
          14,
          15,
          16,
          17,
          1,
          2,
          3,
          5,
          6,
          8,
          9,
          10,
          11,
          12,
          14,
          15,
          17
         ],
         "xaxis": "x",
         "y": [
          1.0588235294117647,
          1.1176470588235294,
          1.1764705882352942,
          1.2352941176470589,
          1.2941176470588236,
          1.3529411764705883,
          1.4117647058823528,
          1.4705882352941178,
          1.5294117647058822,
          1.5882352941176472,
          1.6470588235294117,
          1.7058823529411764,
          1.7647058823529411,
          1.8235294117647058,
          1.8823529411764706,
          1.9411764705882353,
          2,
          1,
          1.0666666666666667,
          1.125,
          1.2,
          1.25,
          1.3333333333333333,
          1.40625,
          1.5,
          1.6,
          1.6666666666666667,
          1.7777777777777777,
          1.875,
          2
         ],
         "yaxis": "y"
        }
       ],
       "layout": {
        "legend": {
         "tracegroupgap": 0
        },
        "margin": {
         "t": 60
        },
        "template": {
         "data": {
          "bar": [
           {
            "error_x": {
             "color": "#2a3f5f"
            },
            "error_y": {
             "color": "#2a3f5f"
            },
            "marker": {
             "line": {
              "color": "#E5ECF6",
              "width": 0.5
             },
             "pattern": {
              "fillmode": "overlay",
              "size": 10,
              "solidity": 0.2
             }
            },
            "type": "bar"
           }
          ],
          "barpolar": [
           {
            "marker": {
             "line": {
              "color": "#E5ECF6",
              "width": 0.5
             },
             "pattern": {
              "fillmode": "overlay",
              "size": 10,
              "solidity": 0.2
             }
            },
            "type": "barpolar"
           }
          ],
          "carpet": [
           {
            "aaxis": {
             "endlinecolor": "#2a3f5f",
             "gridcolor": "white",
             "linecolor": "white",
             "minorgridcolor": "white",
             "startlinecolor": "#2a3f5f"
            },
            "baxis": {
             "endlinecolor": "#2a3f5f",
             "gridcolor": "white",
             "linecolor": "white",
             "minorgridcolor": "white",
             "startlinecolor": "#2a3f5f"
            },
            "type": "carpet"
           }
          ],
          "choropleth": [
           {
            "colorbar": {
             "outlinewidth": 0,
             "ticks": ""
            },
            "type": "choropleth"
           }
          ],
          "contour": [
           {
            "colorbar": {
             "outlinewidth": 0,
             "ticks": ""
            },
            "colorscale": [
             [
              0,
              "#0d0887"
             ],
             [
              0.1111111111111111,
              "#46039f"
             ],
             [
              0.2222222222222222,
              "#7201a8"
             ],
             [
              0.3333333333333333,
              "#9c179e"
             ],
             [
              0.4444444444444444,
              "#bd3786"
             ],
             [
              0.5555555555555556,
              "#d8576b"
             ],
             [
              0.6666666666666666,
              "#ed7953"
             ],
             [
              0.7777777777777778,
              "#fb9f3a"
             ],
             [
              0.8888888888888888,
              "#fdca26"
             ],
             [
              1,
              "#f0f921"
             ]
            ],
            "type": "contour"
           }
          ],
          "contourcarpet": [
           {
            "colorbar": {
             "outlinewidth": 0,
             "ticks": ""
            },
            "type": "contourcarpet"
           }
          ],
          "heatmap": [
           {
            "colorbar": {
             "outlinewidth": 0,
             "ticks": ""
            },
            "colorscale": [
             [
              0,
              "#0d0887"
             ],
             [
              0.1111111111111111,
              "#46039f"
             ],
             [
              0.2222222222222222,
              "#7201a8"
             ],
             [
              0.3333333333333333,
              "#9c179e"
             ],
             [
              0.4444444444444444,
              "#bd3786"
             ],
             [
              0.5555555555555556,
              "#d8576b"
             ],
             [
              0.6666666666666666,
              "#ed7953"
             ],
             [
              0.7777777777777778,
              "#fb9f3a"
             ],
             [
              0.8888888888888888,
              "#fdca26"
             ],
             [
              1,
              "#f0f921"
             ]
            ],
            "type": "heatmap"
           }
          ],
          "heatmapgl": [
           {
            "colorbar": {
             "outlinewidth": 0,
             "ticks": ""
            },
            "colorscale": [
             [
              0,
              "#0d0887"
             ],
             [
              0.1111111111111111,
              "#46039f"
             ],
             [
              0.2222222222222222,
              "#7201a8"
             ],
             [
              0.3333333333333333,
              "#9c179e"
             ],
             [
              0.4444444444444444,
              "#bd3786"
             ],
             [
              0.5555555555555556,
              "#d8576b"
             ],
             [
              0.6666666666666666,
              "#ed7953"
             ],
             [
              0.7777777777777778,
              "#fb9f3a"
             ],
             [
              0.8888888888888888,
              "#fdca26"
             ],
             [
              1,
              "#f0f921"
             ]
            ],
            "type": "heatmapgl"
           }
          ],
          "histogram": [
           {
            "marker": {
             "pattern": {
              "fillmode": "overlay",
              "size": 10,
              "solidity": 0.2
             }
            },
            "type": "histogram"
           }
          ],
          "histogram2d": [
           {
            "colorbar": {
             "outlinewidth": 0,
             "ticks": ""
            },
            "colorscale": [
             [
              0,
              "#0d0887"
             ],
             [
              0.1111111111111111,
              "#46039f"
             ],
             [
              0.2222222222222222,
              "#7201a8"
             ],
             [
              0.3333333333333333,
              "#9c179e"
             ],
             [
              0.4444444444444444,
              "#bd3786"
             ],
             [
              0.5555555555555556,
              "#d8576b"
             ],
             [
              0.6666666666666666,
              "#ed7953"
             ],
             [
              0.7777777777777778,
              "#fb9f3a"
             ],
             [
              0.8888888888888888,
              "#fdca26"
             ],
             [
              1,
              "#f0f921"
             ]
            ],
            "type": "histogram2d"
           }
          ],
          "histogram2dcontour": [
           {
            "colorbar": {
             "outlinewidth": 0,
             "ticks": ""
            },
            "colorscale": [
             [
              0,
              "#0d0887"
             ],
             [
              0.1111111111111111,
              "#46039f"
             ],
             [
              0.2222222222222222,
              "#7201a8"
             ],
             [
              0.3333333333333333,
              "#9c179e"
             ],
             [
              0.4444444444444444,
              "#bd3786"
             ],
             [
              0.5555555555555556,
              "#d8576b"
             ],
             [
              0.6666666666666666,
              "#ed7953"
             ],
             [
              0.7777777777777778,
              "#fb9f3a"
             ],
             [
              0.8888888888888888,
              "#fdca26"
             ],
             [
              1,
              "#f0f921"
             ]
            ],
            "type": "histogram2dcontour"
           }
          ],
          "mesh3d": [
           {
            "colorbar": {
             "outlinewidth": 0,
             "ticks": ""
            },
            "type": "mesh3d"
           }
          ],
          "parcoords": [
           {
            "line": {
             "colorbar": {
              "outlinewidth": 0,
              "ticks": ""
             }
            },
            "type": "parcoords"
           }
          ],
          "pie": [
           {
            "automargin": true,
            "type": "pie"
           }
          ],
          "scatter": [
           {
            "fillpattern": {
             "fillmode": "overlay",
             "size": 10,
             "solidity": 0.2
            },
            "type": "scatter"
           }
          ],
          "scatter3d": [
           {
            "line": {
             "colorbar": {
              "outlinewidth": 0,
              "ticks": ""
             }
            },
            "marker": {
             "colorbar": {
              "outlinewidth": 0,
              "ticks": ""
             }
            },
            "type": "scatter3d"
           }
          ],
          "scattercarpet": [
           {
            "marker": {
             "colorbar": {
              "outlinewidth": 0,
              "ticks": ""
             }
            },
            "type": "scattercarpet"
           }
          ],
          "scattergeo": [
           {
            "marker": {
             "colorbar": {
              "outlinewidth": 0,
              "ticks": ""
             }
            },
            "type": "scattergeo"
           }
          ],
          "scattergl": [
           {
            "marker": {
             "colorbar": {
              "outlinewidth": 0,
              "ticks": ""
             }
            },
            "type": "scattergl"
           }
          ],
          "scattermapbox": [
           {
            "marker": {
             "colorbar": {
              "outlinewidth": 0,
              "ticks": ""
             }
            },
            "type": "scattermapbox"
           }
          ],
          "scatterpolar": [
           {
            "marker": {
             "colorbar": {
              "outlinewidth": 0,
              "ticks": ""
             }
            },
            "type": "scatterpolar"
           }
          ],
          "scatterpolargl": [
           {
            "marker": {
             "colorbar": {
              "outlinewidth": 0,
              "ticks": ""
             }
            },
            "type": "scatterpolargl"
           }
          ],
          "scatterternary": [
           {
            "marker": {
             "colorbar": {
              "outlinewidth": 0,
              "ticks": ""
             }
            },
            "type": "scatterternary"
           }
          ],
          "surface": [
           {
            "colorbar": {
             "outlinewidth": 0,
             "ticks": ""
            },
            "colorscale": [
             [
              0,
              "#0d0887"
             ],
             [
              0.1111111111111111,
              "#46039f"
             ],
             [
              0.2222222222222222,
              "#7201a8"
             ],
             [
              0.3333333333333333,
              "#9c179e"
             ],
             [
              0.4444444444444444,
              "#bd3786"
             ],
             [
              0.5555555555555556,
              "#d8576b"
             ],
             [
              0.6666666666666666,
              "#ed7953"
             ],
             [
              0.7777777777777778,
              "#fb9f3a"
             ],
             [
              0.8888888888888888,
              "#fdca26"
             ],
             [
              1,
              "#f0f921"
             ]
            ],
            "type": "surface"
           }
          ],
          "table": [
           {
            "cells": {
             "fill": {
              "color": "#EBF0F8"
             },
             "line": {
              "color": "white"
             }
            },
            "header": {
             "fill": {
              "color": "#C8D4E3"
             },
             "line": {
              "color": "white"
             }
            },
            "type": "table"
           }
          ]
         },
         "layout": {
          "annotationdefaults": {
           "arrowcolor": "#2a3f5f",
           "arrowhead": 0,
           "arrowwidth": 1
          },
          "autotypenumbers": "strict",
          "coloraxis": {
           "colorbar": {
            "outlinewidth": 0,
            "ticks": ""
           }
          },
          "colorscale": {
           "diverging": [
            [
             0,
             "#8e0152"
            ],
            [
             0.1,
             "#c51b7d"
            ],
            [
             0.2,
             "#de77ae"
            ],
            [
             0.3,
             "#f1b6da"
            ],
            [
             0.4,
             "#fde0ef"
            ],
            [
             0.5,
             "#f7f7f7"
            ],
            [
             0.6,
             "#e6f5d0"
            ],
            [
             0.7,
             "#b8e186"
            ],
            [
             0.8,
             "#7fbc41"
            ],
            [
             0.9,
             "#4d9221"
            ],
            [
             1,
             "#276419"
            ]
           ],
           "sequential": [
            [
             0,
             "#0d0887"
            ],
            [
             0.1111111111111111,
             "#46039f"
            ],
            [
             0.2222222222222222,
             "#7201a8"
            ],
            [
             0.3333333333333333,
             "#9c179e"
            ],
            [
             0.4444444444444444,
             "#bd3786"
            ],
            [
             0.5555555555555556,
             "#d8576b"
            ],
            [
             0.6666666666666666,
             "#ed7953"
            ],
            [
             0.7777777777777778,
             "#fb9f3a"
            ],
            [
             0.8888888888888888,
             "#fdca26"
            ],
            [
             1,
             "#f0f921"
            ]
           ],
           "sequentialminus": [
            [
             0,
             "#0d0887"
            ],
            [
             0.1111111111111111,
             "#46039f"
            ],
            [
             0.2222222222222222,
             "#7201a8"
            ],
            [
             0.3333333333333333,
             "#9c179e"
            ],
            [
             0.4444444444444444,
             "#bd3786"
            ],
            [
             0.5555555555555556,
             "#d8576b"
            ],
            [
             0.6666666666666666,
             "#ed7953"
            ],
            [
             0.7777777777777778,
             "#fb9f3a"
            ],
            [
             0.8888888888888888,
             "#fdca26"
            ],
            [
             1,
             "#f0f921"
            ]
           ]
          },
          "colorway": [
           "#636efa",
           "#EF553B",
           "#00cc96",
           "#ab63fa",
           "#FFA15A",
           "#19d3f3",
           "#FF6692",
           "#B6E880",
           "#FF97FF",
           "#FECB52"
          ],
          "font": {
           "color": "#2a3f5f"
          },
          "geo": {
           "bgcolor": "white",
           "lakecolor": "white",
           "landcolor": "#E5ECF6",
           "showlakes": true,
           "showland": true,
           "subunitcolor": "white"
          },
          "hoverlabel": {
           "align": "left"
          },
          "hovermode": "closest",
          "mapbox": {
           "style": "light"
          },
          "paper_bgcolor": "white",
          "plot_bgcolor": "#E5ECF6",
          "polar": {
           "angularaxis": {
            "gridcolor": "white",
            "linecolor": "white",
            "ticks": ""
           },
           "bgcolor": "#E5ECF6",
           "radialaxis": {
            "gridcolor": "white",
            "linecolor": "white",
            "ticks": ""
           }
          },
          "scene": {
           "xaxis": {
            "backgroundcolor": "#E5ECF6",
            "gridcolor": "white",
            "gridwidth": 2,
            "linecolor": "white",
            "showbackground": true,
            "ticks": "",
            "zerolinecolor": "white"
           },
           "yaxis": {
            "backgroundcolor": "#E5ECF6",
            "gridcolor": "white",
            "gridwidth": 2,
            "linecolor": "white",
            "showbackground": true,
            "ticks": "",
            "zerolinecolor": "white"
           },
           "zaxis": {
            "backgroundcolor": "#E5ECF6",
            "gridcolor": "white",
            "gridwidth": 2,
            "linecolor": "white",
            "showbackground": true,
            "ticks": "",
            "zerolinecolor": "white"
           }
          },
          "shapedefaults": {
           "line": {
            "color": "#2a3f5f"
           }
          },
          "ternary": {
           "aaxis": {
            "gridcolor": "white",
            "linecolor": "white",
            "ticks": ""
           },
           "baxis": {
            "gridcolor": "white",
            "linecolor": "white",
            "ticks": ""
           },
           "bgcolor": "#E5ECF6",
           "caxis": {
            "gridcolor": "white",
            "linecolor": "white",
            "ticks": ""
           }
          },
          "title": {
           "x": 0.05
          },
          "xaxis": {
           "automargin": true,
           "gridcolor": "white",
           "linecolor": "white",
           "ticks": "",
           "title": {
            "standoff": 15
           },
           "zerolinecolor": "white",
           "zerolinewidth": 2
          },
          "yaxis": {
           "automargin": true,
           "gridcolor": "white",
           "linecolor": "white",
           "ticks": "",
           "title": {
            "standoff": 15
           },
           "zerolinecolor": "white",
           "zerolinewidth": 2
          }
         }
        },
        "xaxis": {
         "anchor": "y",
         "domain": [
          0,
          1
         ],
         "title": {
          "text": "x"
         }
        },
        "yaxis": {
         "anchor": "x",
         "domain": [
          0,
          1
         ],
         "title": {
          "text": "y"
         }
        }
       }
      }
     },
     "metadata": {},
     "output_type": "display_data"
    },
    {
     "data": {
      "text/plain": [
       "<Figure size 1000x1000 with 0 Axes>"
      ]
     },
     "metadata": {},
     "output_type": "display_data"
    }
   ],
   "source": [
    "raag_notes = RaagPlayer().notes_list\n",
    "raag_tuple = [(i+1,n,v) for i,(n,v) in enumerate(raag_notes.items())]\n",
    "\n",
    "\n",
    "line = [(x, (1/17)*x+1)  for x in range(1,18)]\n",
    "non3 = [i for i in raag_tuple if '3' not in i[1]]\n",
    "# # px.scatter(pd.DataFrame(RaagPlayer().notes_list, index = [0]).T,  trendline = \"ols\")\n",
    "plt.figure(figsize = (10,10))\n",
    "px.scatter(x = [i[0] for i in non3],\n",
    "           y = [i[-1] for i in non3], \n",
    "           trendline='ols')\n",
    "px.scatter(x = [i[0] for i in line] + [i[0] for i in non3],\n",
    "           y = [i[1] for i in line]+ [i[-1] for i in non3])\n",
    "\n",
    "\n"
   ]
  },
  {
   "cell_type": "code",
   "execution_count": 4,
   "metadata": {},
   "outputs": [
    {
     "name": "stdout",
     "output_type": "stream",
     "text": [
      "Māyadravila\n",
      "[['S', 'R2', 'G3', 'M1', 'P', 'D2', 'N3', 'S'], ['S', 'N2', 'P', 'M1', 'P', 'G3', 'M1', 'R2', 'S']]\n",
      "[('S', 200), ('R2', 225.0), ('G3', 256.66666666666663), ('M1', 266.66666666666663), ('P', 300.0), ('D2', 333.33333333333337), ('N3', 380.0), ('S2', 400), ('\\n', 0), ('S2', 400), ('N2', 375.0), ('P', 300.0), ('M1', 266.66666666666663), ('P', 300.0), ('G3', 256.66666666666663), ('M1', 266.66666666666663), ('R2', 225.0), ('S', 200)]\n",
      "S R2 G3 M1 P D2 N3 S2 \n",
      " S2 N2 P M1 P G3 M1 R2 S "
     ]
    },
    {
     "data": {
      "text/plain": [
       "<raagam_player.RaagPlayer at 0x1cca5f55490>"
      ]
     },
     "execution_count": 4,
     "metadata": {},
     "output_type": "execute_result"
    }
   ],
   "source": [
    "raag_i = np.random.choice(range(mela_df.shape[0]),size=1)[0]\n",
    "raag = mela_df.iloc[raag_i].to_dict()\n",
    "print(raag['Raga_Name'])\n",
    "# RaagPlayer(list(raag['AAROHANAM'])[:-1])\n",
    "RaagPlayer([raag['AAROHANAM'], raag['AVAROHANAM']])\n"
   ]
  },
  {
   "cell_type": "code",
   "execution_count": 14,
   "metadata": {},
   "outputs": [
    {
     "data": {
      "application/vnd.jupyter.widget-view+json": {
       "model_id": "6a93834738ae4b0e921162051bb99fda",
       "version_major": 2,
       "version_minor": 0
      },
      "text/plain": [
       "Dropdown(options=('Abheri', 'Abheri (Dikshitar School)', 'Abhiru', 'Abhirāmam', 'Abhogi', 'Agnikopa', 'Alankār…"
      ]
     },
     "metadata": {},
     "output_type": "display_data"
    },
    {
     "name": "stdout",
     "output_type": "stream",
     "text": [
      "You selected: Bhoopālam\n",
      "['S', 'R1', 'G2', 'P', 'D1', 'S'] ['S', 'D1', 'P', 'G2', 'R1', 'S']\n",
      "[['S', 'R1', 'G2', 'P', 'D1', 'S'], ['S', 'D1', 'P', 'G2', 'R1', 'S']]\n",
      "[('S', 200), ('R1', 213.33333333333334), ('G2', 250.0), ('P', 300.0), ('D1', 320.0), ('S2', 400), ('\\n', 0), ('S2', 400), ('D1', 320.0), ('P', 300.0), ('G2', 250.0), ('R1', 213.33333333333334), ('S', 200)]\n",
      "S R1 G2 P D1 S2 \n",
      " S2 D1 P G2 R1 S \n",
      "\n"
     ]
    }
   ],
   "source": [
    "mela_df = mela_df[mela_df['Raga_Name']!=0]\n",
    "d = Dropdown(options = sorted(mela_df['Raga_Name']))\n",
    "\n",
    "def print_selected(change):\n",
    "  selected_value = change['new']  \n",
    "  print(f\"You selected: {selected_value}\")\n",
    "  raga_row = mela_df[mela_df['Raga_Name']==selected_value]\n",
    "  print(list(raga_row['AAROHANAM'])[0], list(raga_row['AVAROHANAM'])[0])\n",
    "  RaagPlayer([list(raga_row['AAROHANAM'])[0], list(raga_row['AVAROHANAM'])[0]])\n",
    "  print(\"\\n\")\n",
    "d.observe(print_selected, names='value')\n",
    "display(d)"
   ]
  },
  {
   "cell_type": "code",
   "execution_count": 13,
   "metadata": {},
   "outputs": [
    {
     "data": {
      "text/html": [
       "<div>\n",
       "<style scoped>\n",
       "    .dataframe tbody tr th:only-of-type {\n",
       "        vertical-align: middle;\n",
       "    }\n",
       "\n",
       "    .dataframe tbody tr th {\n",
       "        vertical-align: top;\n",
       "    }\n",
       "\n",
       "    .dataframe thead th {\n",
       "        text-align: right;\n",
       "    }\n",
       "</style>\n",
       "<table border=\"1\" class=\"dataframe\">\n",
       "  <thead>\n",
       "    <tr style=\"text-align: right;\">\n",
       "      <th></th>\n",
       "      <th>Raga_Name_Raw</th>\n",
       "      <th>Raga_Name</th>\n",
       "      <th>AAROHANAM</th>\n",
       "      <th>AVAROHANAM</th>\n",
       "      <th>Melakarta</th>\n",
       "      <th>Melakarta_Name</th>\n",
       "    </tr>\n",
       "  </thead>\n",
       "  <tbody>\n",
       "    <tr>\n",
       "      <th>442</th>\n",
       "      <td>Nalinakānthi</td>\n",
       "      <td>Nalinakānthi</td>\n",
       "      <td>[S, G3, R2, M1, P, N3, S]</td>\n",
       "      <td>[S, N3, P, M1, G3, R2, S]</td>\n",
       "      <td>0.0</td>\n",
       "      <td>Sarasāngi</td>\n",
       "    </tr>\n",
       "  </tbody>\n",
       "</table>\n",
       "</div>"
      ],
      "text/plain": [
       "    Raga_Name_Raw     Raga_Name                  AAROHANAM  \\\n",
       "442  Nalinakānthi  Nalinakānthi  [S, G3, R2, M1, P, N3, S]   \n",
       "\n",
       "                    AVAROHANAM  Melakarta Melakarta_Name  \n",
       "442  [S, N3, P, M1, G3, R2, S]        0.0      Sarasāngi  "
      ]
     },
     "execution_count": 13,
     "metadata": {},
     "output_type": "execute_result"
    }
   ],
   "source": [
    "mela_df[mela_df['Raga_Name']=='Nalinakānthi']"
   ]
  },
  {
   "cell_type": "code",
   "execution_count": null,
   "metadata": {},
   "outputs": [],
   "source": []
  },
  {
   "cell_type": "code",
   "execution_count": null,
   "metadata": {},
   "outputs": [],
   "source": []
  }
 ],
 "metadata": {
  "kernelspec": {
   "display_name": "Python 3",
   "language": "python",
   "name": "python3"
  },
  "language_info": {
   "codemirror_mode": {
    "name": "ipython",
    "version": 3
   },
   "file_extension": ".py",
   "mimetype": "text/x-python",
   "name": "python",
   "nbconvert_exporter": "python",
   "pygments_lexer": "ipython3",
   "version": "3.12.3"
  }
 },
 "nbformat": 4,
 "nbformat_minor": 2
}
