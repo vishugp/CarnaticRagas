{
 "cells": [
  {
   "cell_type": "code",
   "execution_count": 1,
   "metadata": {},
   "outputs": [],
   "source": [
    "import pandas as pd\n",
    "import numpy as np\n",
    "import matplotlib.pyplot as plt\n",
    "\n",
    "notes_list = {'S':1, \n",
    "                'R1':16/15,\n",
    "                'R2':9/8,\n",
    "                'R3':6/5 - 5e-2,\n",
    "                'G1':6/5,\n",
    "                'G2':81/64,\n",
    "                'G3':4/3 - 5e-2,\n",
    "                'M1':4/3,\n",
    "                'M2':45/32,\n",
    "                'P':3/2,\n",
    "                'D1':8/5,\n",
    "                'D2':27/16,\n",
    "                'D3':1.69,\n",
    "                'N1':16/9,\n",
    "                'N2':15/8,\n",
    "                'N3':1.9\n",
    "}"
   ]
  },
  {
   "cell_type": "code",
   "execution_count": 2,
   "metadata": {},
   "outputs": [],
   "source": [
    "data = pd.read_csv(\"test.csv\")\n",
    "data['contfreq'] = (data['freq']==data['freq'].shift(1)) & (data['freq']==data['freq'].shift(2))\n",
    "data['freq'] = data.apply(lambda x: x['freq'] if x['contfreq'] else np.nan,axis=1)\n",
    "\n",
    "# data = data[data['freq'].isnull()==False]"
   ]
  },
  {
   "cell_type": "code",
   "execution_count": 3,
   "metadata": {},
   "outputs": [
    {
     "data": {
      "text/plain": [
       "[<matplotlib.lines.Line2D at 0x1ba888db530>]"
      ]
     },
     "execution_count": 3,
     "metadata": {},
     "output_type": "execute_result"
    },
    {
     "data": {
      "image/png": "[encoded data removed]",
      "text/plain": [
       "<Figure size 640x480 with 1 Axes>"
      ]
     },
     "metadata": {},
     "output_type": "display_data"
    }
   ],
   "source": [
    "plt.plot(data['timestamp'], data['freq'])"
   ]
  },
  {
   "cell_type": "code",
   "execution_count": 4,
   "metadata": {},
   "outputs": [],
   "source": [
    "freq_table = data['freq'].value_counts().reset_index().sort_values(\"freq\")"
   ]
  },
  {
   "cell_type": "code",
   "execution_count": 5,
   "metadata": {},
   "outputs": [
    {
     "data": {
      "text/plain": [
       "107.666015625"
      ]
     },
     "execution_count": 5,
     "metadata": {},
     "output_type": "execute_result"
    }
   ],
   "source": [
    "base_freq = freq_table.iloc[0,0]\n",
    "base_freq"
   ]
  },
  {
   "cell_type": "code",
   "execution_count": 6,
   "metadata": {},
   "outputs": [
    {
     "data": {
      "text/html": [
       "<div>\n",
       "<style scoped>\n",
       "    .dataframe tbody tr th:only-of-type {\n",
       "        vertical-align: middle;\n",
       "    }\n",
       "\n",
       "    .dataframe tbody tr th {\n",
       "        vertical-align: top;\n",
       "    }\n",
       "\n",
       "    .dataframe thead th {\n",
       "        text-align: right;\n",
       "    }\n",
       "</style>\n",
       "<table border=\"1\" class=\"dataframe\">\n",
       "  <thead>\n",
       "    <tr style=\"text-align: right;\">\n",
       "      <th></th>\n",
       "      <th>freq</th>\n",
       "      <th>count</th>\n",
       "      <th>mult</th>\n",
       "      <th>near</th>\n",
       "    </tr>\n",
       "  </thead>\n",
       "  <tbody>\n",
       "    <tr>\n",
       "      <th>3</th>\n",
       "      <td>107.666016</td>\n",
       "      <td>7</td>\n",
       "      <td>1.0</td>\n",
       "      <td>S</td>\n",
       "    </tr>\n",
       "    <tr>\n",
       "      <th>9</th>\n",
       "      <td>118.432617</td>\n",
       "      <td>1</td>\n",
       "      <td>1.1</td>\n",
       "      <td>R2</td>\n",
       "    </tr>\n",
       "    <tr>\n",
       "      <th>6</th>\n",
       "      <td>129.199219</td>\n",
       "      <td>3</td>\n",
       "      <td>1.2</td>\n",
       "      <td>G1</td>\n",
       "    </tr>\n",
       "    <tr>\n",
       "      <th>7</th>\n",
       "      <td>139.965820</td>\n",
       "      <td>3</td>\n",
       "      <td>1.3</td>\n",
       "      <td>G3</td>\n",
       "    </tr>\n",
       "    <tr>\n",
       "      <th>0</th>\n",
       "      <td>150.732422</td>\n",
       "      <td>11</td>\n",
       "      <td>1.4</td>\n",
       "      <td>M2</td>\n",
       "    </tr>\n",
       "    <tr>\n",
       "      <th>8</th>\n",
       "      <td>161.499023</td>\n",
       "      <td>2</td>\n",
       "      <td>1.5</td>\n",
       "      <td>P</td>\n",
       "    </tr>\n",
       "    <tr>\n",
       "      <th>4</th>\n",
       "      <td>172.265625</td>\n",
       "      <td>7</td>\n",
       "      <td>1.6</td>\n",
       "      <td>D1</td>\n",
       "    </tr>\n",
       "    <tr>\n",
       "      <th>5</th>\n",
       "      <td>183.032227</td>\n",
       "      <td>6</td>\n",
       "      <td>1.7</td>\n",
       "      <td>D3</td>\n",
       "    </tr>\n",
       "    <tr>\n",
       "      <th>2</th>\n",
       "      <td>215.332031</td>\n",
       "      <td>10</td>\n",
       "      <td>2.0</td>\n",
       "      <td>N3</td>\n",
       "    </tr>\n",
       "    <tr>\n",
       "      <th>1</th>\n",
       "      <td>226.098633</td>\n",
       "      <td>11</td>\n",
       "      <td>2.1</td>\n",
       "      <td>N3</td>\n",
       "    </tr>\n",
       "    <tr>\n",
       "      <th>10</th>\n",
       "      <td>376.831055</td>\n",
       "      <td>1</td>\n",
       "      <td>3.5</td>\n",
       "      <td>N3</td>\n",
       "    </tr>\n",
       "  </tbody>\n",
       "</table>\n",
       "</div>"
      ],
      "text/plain": [
       "          freq  count  mult near\n",
       "3   107.666016      7   1.0    S\n",
       "9   118.432617      1   1.1   R2\n",
       "6   129.199219      3   1.2   G1\n",
       "7   139.965820      3   1.3   G3\n",
       "0   150.732422     11   1.4   M2\n",
       "8   161.499023      2   1.5    P\n",
       "4   172.265625      7   1.6   D1\n",
       "5   183.032227      6   1.7   D3\n",
       "2   215.332031     10   2.0   N3\n",
       "1   226.098633     11   2.1   N3\n",
       "10  376.831055      1   3.5   N3"
      ]
     },
     "execution_count": 6,
     "metadata": {},
     "output_type": "execute_result"
    }
   ],
   "source": [
    "freq_table['mult'] = freq_table['freq']/base_freq\n",
    "rev_notes_list = {v:k for k,v in notes_list.items()}\n",
    "freq_table['near'] = freq_table['mult'].apply(lambda x: rev_notes_list[sorted([(v,np.abs(v-x)) for v in notes_list.values()], key = lambda x: x[-1])[0][0]])\n",
    "freq_table"
   ]
  },
  {
   "cell_type": "code",
   "execution_count": null,
   "metadata": {},
   "outputs": [],
   "source": []
  },
  {
   "cell_type": "code",
   "execution_count": null,
   "metadata": {},
   "outputs": [],
   "source": []
  }
 ],
 "metadata": {
  "kernelspec": {
   "display_name": "Python 3",
   "language": "python",
   "name": "python3"
  },
  "language_info": {
   "codemirror_mode": {
    "name": "ipython",
    "version": 3
   },
   "file_extension": ".py",
   "mimetype": "text/x-python",
   "name": "python",
   "nbconvert_exporter": "python",
   "pygments_lexer": "ipython3",
   "version": "3.12.3"
  }
 },
 "nbformat": 4,
 "nbformat_minor": 2
}
